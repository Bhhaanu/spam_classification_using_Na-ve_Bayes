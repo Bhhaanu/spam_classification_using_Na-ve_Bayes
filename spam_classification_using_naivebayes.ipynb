{
 "cells": [
  {
   "cell_type": "code",
   "execution_count": 1,
   "metadata": {
    "id": "ZGAhYQa-LOf5"
   },
   "outputs": [],
   "source": [
    "#Loading the dataset\n",
    "import pandas as pd\n",
    "data_SMS = pd.read_csv('C:/Users/Bhhaanu/Downloads/smsspamcollection/SMSSpamCollection', sep = '\\t', header=None, names=[\"Class\", \"SMS_Text\"])"
   ]
  },
  {
   "cell_type": "code",
   "execution_count": 2,
   "metadata": {
    "colab": {
     "base_uri": "https://localhost:8080/",
     "height": 424
    },
    "id": "gLMYdjdpLfUu",
    "outputId": "983cd487-0418-48be-b1b8-45a227d4ae06"
   },
   "outputs": [
    {
     "data": {
      "text/html": [
       "<div>\n",
       "<style scoped>\n",
       "    .dataframe tbody tr th:only-of-type {\n",
       "        vertical-align: middle;\n",
       "    }\n",
       "\n",
       "    .dataframe tbody tr th {\n",
       "        vertical-align: top;\n",
       "    }\n",
       "\n",
       "    .dataframe thead th {\n",
       "        text-align: right;\n",
       "    }\n",
       "</style>\n",
       "<table border=\"1\" class=\"dataframe\">\n",
       "  <thead>\n",
       "    <tr style=\"text-align: right;\">\n",
       "      <th></th>\n",
       "      <th>Class</th>\n",
       "      <th>SMS_Text</th>\n",
       "    </tr>\n",
       "  </thead>\n",
       "  <tbody>\n",
       "    <tr>\n",
       "      <th>0</th>\n",
       "      <td>ham</td>\n",
       "      <td>Go until jurong point, crazy.. Available only ...</td>\n",
       "    </tr>\n",
       "    <tr>\n",
       "      <th>1</th>\n",
       "      <td>ham</td>\n",
       "      <td>Ok lar... Joking wif u oni...</td>\n",
       "    </tr>\n",
       "    <tr>\n",
       "      <th>2</th>\n",
       "      <td>spam</td>\n",
       "      <td>Free entry in 2 a wkly comp to win FA Cup fina...</td>\n",
       "    </tr>\n",
       "    <tr>\n",
       "      <th>3</th>\n",
       "      <td>ham</td>\n",
       "      <td>U dun say so early hor... U c already then say...</td>\n",
       "    </tr>\n",
       "    <tr>\n",
       "      <th>4</th>\n",
       "      <td>ham</td>\n",
       "      <td>Nah I don't think he goes to usf, he lives aro...</td>\n",
       "    </tr>\n",
       "    <tr>\n",
       "      <th>...</th>\n",
       "      <td>...</td>\n",
       "      <td>...</td>\n",
       "    </tr>\n",
       "    <tr>\n",
       "      <th>5567</th>\n",
       "      <td>spam</td>\n",
       "      <td>This is the 2nd time we have tried 2 contact u...</td>\n",
       "    </tr>\n",
       "    <tr>\n",
       "      <th>5568</th>\n",
       "      <td>ham</td>\n",
       "      <td>Will ü b going to esplanade fr home?</td>\n",
       "    </tr>\n",
       "    <tr>\n",
       "      <th>5569</th>\n",
       "      <td>ham</td>\n",
       "      <td>Pity, * was in mood for that. So...any other s...</td>\n",
       "    </tr>\n",
       "    <tr>\n",
       "      <th>5570</th>\n",
       "      <td>ham</td>\n",
       "      <td>The guy did some bitching but I acted like i'd...</td>\n",
       "    </tr>\n",
       "    <tr>\n",
       "      <th>5571</th>\n",
       "      <td>ham</td>\n",
       "      <td>Rofl. Its true to its name</td>\n",
       "    </tr>\n",
       "  </tbody>\n",
       "</table>\n",
       "<p>5572 rows × 2 columns</p>\n",
       "</div>"
      ],
      "text/plain": [
       "     Class                                           SMS_Text\n",
       "0      ham  Go until jurong point, crazy.. Available only ...\n",
       "1      ham                      Ok lar... Joking wif u oni...\n",
       "2     spam  Free entry in 2 a wkly comp to win FA Cup fina...\n",
       "3      ham  U dun say so early hor... U c already then say...\n",
       "4      ham  Nah I don't think he goes to usf, he lives aro...\n",
       "...    ...                                                ...\n",
       "5567  spam  This is the 2nd time we have tried 2 contact u...\n",
       "5568   ham               Will ü b going to esplanade fr home?\n",
       "5569   ham  Pity, * was in mood for that. So...any other s...\n",
       "5570   ham  The guy did some bitching but I acted like i'd...\n",
       "5571   ham                         Rofl. Its true to its name\n",
       "\n",
       "[5572 rows x 2 columns]"
      ]
     },
     "execution_count": 2,
     "metadata": {},
     "output_type": "execute_result"
    }
   ],
   "source": [
    "data_SMS"
   ]
  },
  {
   "cell_type": "code",
   "execution_count": 3,
   "metadata": {
    "colab": {
     "base_uri": "https://localhost:8080/",
     "height": 282
    },
    "id": "_2uwqwO0LhiT",
    "outputId": "b973a90b-48d1-49e2-fd38-e552f27c102c"
   },
   "outputs": [
    {
     "data": {
      "text/plain": [
       "<AxesSubplot:>"
      ]
     },
     "execution_count": 3,
     "metadata": {},
     "output_type": "execute_result"
    },
    {
     "data": {
      "image/png": "[encoded data removed]",
      "text/plain": [
       "<Figure size 640x480 with 1 Axes>"
      ]
     },
     "metadata": {},
     "output_type": "display_data"
    }
   ],
   "source": [
    "#Ploting the frequencies of data classes (spam and ham).\n",
    "data_SMS.Class.value_counts().plot(kind='barh')"
   ]
  },
  {
   "cell_type": "code",
   "execution_count": 4,
   "metadata": {
    "colab": {
     "base_uri": "https://localhost:8080/"
    },
    "id": "rrBy4oSVLnGU",
    "outputId": "f28f8367-ad14-4028-b92b-b12ad6205e9d"
   },
   "outputs": [
    {
     "data": {
      "text/plain": [
       "array([[1],\n",
       "       [0],\n",
       "       [0],\n",
       "       [1]])"
      ]
     },
     "execution_count": 4,
     "metadata": {},
     "output_type": "execute_result"
    }
   ],
   "source": [
    "#Converting the class categories (spam and ham) into a binary format of 0 and 1.\n",
    "from sklearn import preprocessing\n",
    "lb = preprocessing.LabelBinarizer()\n",
    "lb.fit_transform(['yes', 'no', 'no', 'yes'])"
   ]
  },
  {
   "cell_type": "code",
   "execution_count": 5,
   "metadata": {
    "colab": {
     "base_uri": "https://localhost:8080/"
    },
    "id": "6GJX8eHrNFB0",
    "outputId": "d9634c9d-4ddd-42a2-e243-deec77e31ebb"
   },
   "outputs": [
    {
     "data": {
      "text/plain": [
       "0        ham\n",
       "1        ham\n",
       "2       spam\n",
       "3        ham\n",
       "4        ham\n",
       "        ... \n",
       "5567    spam\n",
       "5568     ham\n",
       "5569     ham\n",
       "5570     ham\n",
       "5571     ham\n",
       "Name: Class, Length: 5572, dtype: object"
      ]
     },
     "execution_count": 5,
     "metadata": {},
     "output_type": "execute_result"
    }
   ],
   "source": [
    "data_SMS[\"Class\"]"
   ]
  },
  {
   "cell_type": "code",
   "execution_count": 6,
   "metadata": {
    "id": "9tk3g_0DMbSg"
   },
   "outputs": [],
   "source": [
    "lb = preprocessing.LabelBinarizer()\n",
    "data_SMS[\"Class\"]=lb.fit_transform(data_SMS[\"Class\"])"
   ]
  },
  {
   "cell_type": "code",
   "execution_count": 7,
   "metadata": {
    "colab": {
     "base_uri": "https://localhost:8080/",
     "height": 424
    },
    "id": "WFOBf3XuNTlA",
    "outputId": "06d60264-4c68-4c7f-e391-2f90abc426f2"
   },
   "outputs": [
    {
     "data": {
      "text/html": [
       "<div>\n",
       "<style scoped>\n",
       "    .dataframe tbody tr th:only-of-type {\n",
       "        vertical-align: middle;\n",
       "    }\n",
       "\n",
       "    .dataframe tbody tr th {\n",
       "        vertical-align: top;\n",
       "    }\n",
       "\n",
       "    .dataframe thead th {\n",
       "        text-align: right;\n",
       "    }\n",
       "</style>\n",
       "<table border=\"1\" class=\"dataframe\">\n",
       "  <thead>\n",
       "    <tr style=\"text-align: right;\">\n",
       "      <th></th>\n",
       "      <th>Class</th>\n",
       "      <th>SMS_Text</th>\n",
       "    </tr>\n",
       "  </thead>\n",
       "  <tbody>\n",
       "    <tr>\n",
       "      <th>0</th>\n",
       "      <td>0</td>\n",
       "      <td>Go until jurong point, crazy.. Available only ...</td>\n",
       "    </tr>\n",
       "    <tr>\n",
       "      <th>1</th>\n",
       "      <td>0</td>\n",
       "      <td>Ok lar... Joking wif u oni...</td>\n",
       "    </tr>\n",
       "    <tr>\n",
       "      <th>2</th>\n",
       "      <td>1</td>\n",
       "      <td>Free entry in 2 a wkly comp to win FA Cup fina...</td>\n",
       "    </tr>\n",
       "    <tr>\n",
       "      <th>3</th>\n",
       "      <td>0</td>\n",
       "      <td>U dun say so early hor... U c already then say...</td>\n",
       "    </tr>\n",
       "    <tr>\n",
       "      <th>4</th>\n",
       "      <td>0</td>\n",
       "      <td>Nah I don't think he goes to usf, he lives aro...</td>\n",
       "    </tr>\n",
       "    <tr>\n",
       "      <th>...</th>\n",
       "      <td>...</td>\n",
       "      <td>...</td>\n",
       "    </tr>\n",
       "    <tr>\n",
       "      <th>5567</th>\n",
       "      <td>1</td>\n",
       "      <td>This is the 2nd time we have tried 2 contact u...</td>\n",
       "    </tr>\n",
       "    <tr>\n",
       "      <th>5568</th>\n",
       "      <td>0</td>\n",
       "      <td>Will ü b going to esplanade fr home?</td>\n",
       "    </tr>\n",
       "    <tr>\n",
       "      <th>5569</th>\n",
       "      <td>0</td>\n",
       "      <td>Pity, * was in mood for that. So...any other s...</td>\n",
       "    </tr>\n",
       "    <tr>\n",
       "      <th>5570</th>\n",
       "      <td>0</td>\n",
       "      <td>The guy did some bitching but I acted like i'd...</td>\n",
       "    </tr>\n",
       "    <tr>\n",
       "      <th>5571</th>\n",
       "      <td>0</td>\n",
       "      <td>Rofl. Its true to its name</td>\n",
       "    </tr>\n",
       "  </tbody>\n",
       "</table>\n",
       "<p>5572 rows × 2 columns</p>\n",
       "</div>"
      ],
      "text/plain": [
       "      Class                                           SMS_Text\n",
       "0         0  Go until jurong point, crazy.. Available only ...\n",
       "1         0                      Ok lar... Joking wif u oni...\n",
       "2         1  Free entry in 2 a wkly comp to win FA Cup fina...\n",
       "3         0  U dun say so early hor... U c already then say...\n",
       "4         0  Nah I don't think he goes to usf, he lives aro...\n",
       "...     ...                                                ...\n",
       "5567      1  This is the 2nd time we have tried 2 contact u...\n",
       "5568      0               Will ü b going to esplanade fr home?\n",
       "5569      0  Pity, * was in mood for that. So...any other s...\n",
       "5570      0  The guy did some bitching but I acted like i'd...\n",
       "5571      0                         Rofl. Its true to its name\n",
       "\n",
       "[5572 rows x 2 columns]"
      ]
     },
     "execution_count": 7,
     "metadata": {},
     "output_type": "execute_result"
    }
   ],
   "source": [
    "data_SMS"
   ]
  },
  {
   "cell_type": "code",
   "execution_count": 8,
   "metadata": {
    "colab": {
     "base_uri": "https://localhost:8080/"
    },
    "id": "N9JXfvYYNc-8",
    "outputId": "baf68bd6-40b7-4eef-c0d8-45598039c47e"
   },
   "outputs": [
    {
     "data": {
      "text/plain": [
       "[('to', 2145),\n",
       " ('you', 1626),\n",
       " ('I', 1469),\n",
       " ('a', 1337),\n",
       " ('the', 1207),\n",
       " ('and', 858),\n",
       " ('in', 800),\n",
       " ('is', 788),\n",
       " ('i', 748),\n",
       " ('u', 698)]"
      ]
     },
     "execution_count": 8,
     "metadata": {},
     "output_type": "execute_result"
    }
   ],
   "source": [
    "#Printing out the frequency of the top 10 words.\n",
    "from collections import Counter\n",
    "Counter(\" \".join(data_SMS[\"SMS_Text\"]).split()).most_common(10)"
   ]
  },
  {
   "cell_type": "code",
   "execution_count": 9,
   "metadata": {
    "id": "B8KBGwlGNmgU"
   },
   "outputs": [],
   "source": [
    "#Spliting the data into training and test sets. Use 80% for training and 20% for testing.\n",
    "from sklearn.model_selection import train_test_split\n",
    "X = data_SMS[\"SMS_Text\"]\n",
    "y = data_SMS[\"Class\"]\n",
    "X_train, X_test, y_train, y_test = train_test_split(X, y, test_size=0.20, random_state=42)"
   ]
  },
  {
   "cell_type": "code",
   "execution_count": 10,
   "metadata": {
    "colab": {
     "base_uri": "https://localhost:8080/"
    },
    "id": "r2U7M776OWeN",
    "outputId": "5f53f826-c7af-43a4-ae2b-f72a6f5f682a"
   },
   "outputs": [
    {
     "name": "stdout",
     "output_type": "stream",
     "text": [
      "1978    Reply to win £100 weekly! Where will the 2006 ...\n",
      "3989    Hello. Sort of out in town already. That . So ...\n",
      "3935     How come guoyang go n tell her? Then u told her?\n",
      "4078    Hey sathya till now we dint meet not even a si...\n",
      "4086    Orange brings you ringtones from all time Char...\n",
      "                              ...                        \n",
      "3772    Hi, wlcome back, did wonder if you got eaten b...\n",
      "5191                               Sorry, I'll call later\n",
      "5226        Prabha..i'm soryda..realy..frm heart i'm sory\n",
      "5390                           Nt joking seriously i told\n",
      "860               Did he just say somebody is named tampa\n",
      "Name: SMS_Text, Length: 4457, dtype: object 3245    Squeeeeeze!! This is christmas hug.. If u lik ...\n",
      "944     And also I've sorta blown him off a couple tim...\n",
      "1044    Mmm thats better now i got a roast down me! i...\n",
      "2484        Mm have some kanji dont eat anything heavy ok\n",
      "812     So there's a ring that comes with the guys cos...\n",
      "                              ...                        \n",
      "4264    Den only weekdays got special price... Haiz......\n",
      "2439        I not busy juz dun wan 2 go so early.. Hee.. \n",
      "5556    Yes i have. So that's why u texted. Pshew...mi...\n",
      "4205    How are you enjoying this semester? Take care ...\n",
      "4293                                                G.W.R\n",
      "Name: SMS_Text, Length: 1115, dtype: object 1978    1\n",
      "3989    0\n",
      "3935    0\n",
      "4078    0\n",
      "4086    1\n",
      "       ..\n",
      "3772    0\n",
      "5191    0\n",
      "5226    0\n",
      "5390    0\n",
      "860     0\n",
      "Name: Class, Length: 4457, dtype: int32 3245    0\n",
      "944     0\n",
      "1044    0\n",
      "2484    0\n",
      "812     0\n",
      "       ..\n",
      "4264    0\n",
      "2439    0\n",
      "5556    0\n",
      "4205    0\n",
      "4293    0\n",
      "Name: Class, Length: 1115, dtype: int32\n"
     ]
    }
   ],
   "source": [
    "print(X_train,X_test,y_train,y_test)"
   ]
  },
  {
   "cell_type": "code",
   "execution_count": 11,
   "metadata": {
    "id": "lbtApnAzOmvd"
   },
   "outputs": [],
   "source": [
    "#Extracting the features using word frequencies.\n",
    "from sklearn.feature_extraction.text import CountVectorizer\n",
    "WordVectorizer=CountVectorizer()"
   ]
  },
  {
   "cell_type": "code",
   "execution_count": 12,
   "metadata": {
    "colab": {
     "base_uri": "https://localhost:8080/"
    },
    "id": "gfg8HNZDPW5L",
    "outputId": "cb34867d-8c69-46f7-8084-a9d9525d0b42"
   },
   "outputs": [
    {
     "data": {
      "text/plain": [
       "array([[0, 0, 0, ..., 0, 0, 0],\n",
       "       [0, 0, 0, ..., 0, 0, 0],\n",
       "       [0, 0, 0, ..., 0, 0, 0],\n",
       "       ...,\n",
       "       [0, 0, 0, ..., 0, 0, 0],\n",
       "       [0, 0, 0, ..., 0, 0, 0],\n",
       "       [0, 0, 0, ..., 0, 0, 0]], dtype=int64)"
      ]
     },
     "execution_count": 12,
     "metadata": {},
     "output_type": "execute_result"
    }
   ],
   "source": [
    "TrainData_Freq = WordVectorizer.fit_transform(X_train.values)\n",
    "WordVectorizer.vocabulary_\n",
    "TrainData_Freq.toarray()"
   ]
  },
  {
   "cell_type": "code",
   "execution_count": 13,
   "metadata": {
    "id": "C3DXpdTPPcot"
   },
   "outputs": [],
   "source": [
    "#Creating the Multinomial Naïve Bayes classifier\n",
    "from sklearn.naive_bayes import MultinomialNB\n",
    "NB_classifier = MultinomialNB()"
   ]
  },
  {
   "cell_type": "code",
   "execution_count": 14,
   "metadata": {
    "colab": {
     "base_uri": "https://localhost:8080/"
    },
    "id": "nuSK8tiHP7hb",
    "outputId": "314beec5-ae71-4e89-db92-d7f90c03b45d"
   },
   "outputs": [
    {
     "data": {
      "text/plain": [
       "MultinomialNB()"
      ]
     },
     "execution_count": 14,
     "metadata": {},
     "output_type": "execute_result"
    }
   ],
   "source": [
    "#Train the model\n",
    "NB_classifier.fit(TrainData_Freq, y_train)"
   ]
  },
  {
   "cell_type": "code",
   "execution_count": 15,
   "metadata": {
    "colab": {
     "base_uri": "https://localhost:8080/"
    },
    "id": "Em0LNfLAQFhT",
    "outputId": "661acc4a-e4ef-4fc5-904b-ba5ff3aff04c"
   },
   "outputs": [
    {
     "data": {
      "text/plain": [
       "0.9919282511210762"
      ]
     },
     "execution_count": 15,
     "metadata": {},
     "output_type": "execute_result"
    }
   ],
   "source": [
    "#Calculate the accuracy score\n",
    "TestData_Freq = WordVectorizer.transform(X_test)\n",
    "TestData_Freq=TestData_Freq.toarray()\n",
    "NB_classifier.score(TestData_Freq, y_test)"
   ]
  },
  {
   "cell_type": "code",
   "execution_count": 16,
   "metadata": {
    "colab": {
     "base_uri": "https://localhost:8080/"
    },
    "id": "IzvYnK20Rwnu",
    "outputId": "28599b31-fb99-4b5c-f3bc-2c3459627f54"
   },
   "outputs": [
    {
     "data": {
      "text/plain": [
       "array([[0, 0, 0, ..., 0, 0, 0],\n",
       "       [0, 0, 0, ..., 0, 0, 0],\n",
       "       [0, 0, 0, ..., 0, 0, 0],\n",
       "       ...,\n",
       "       [0, 0, 0, ..., 0, 0, 0],\n",
       "       [0, 0, 0, ..., 0, 0, 0],\n",
       "       [0, 0, 0, ..., 0, 0, 0]], dtype=int64)"
      ]
     },
     "execution_count": 16,
     "metadata": {},
     "output_type": "execute_result"
    }
   ],
   "source": [
    "TestData_Freq"
   ]
  },
  {
   "cell_type": "code",
   "execution_count": 17,
   "metadata": {
    "id": "9CmDkrzUQMxo"
   },
   "outputs": [],
   "source": [
    "#Performing prediction on test data \n",
    "y_pred = NB_classifier.predict(TestData_Freq)"
   ]
  },
  {
   "cell_type": "code",
   "execution_count": 18,
   "metadata": {
    "id": "HUPs-gfeQh1u"
   },
   "outputs": [],
   "source": [
    "#defining a function to estimate the label for given data\n",
    "def estimate_label(data):\n",
    "  return y_pred[data]"
   ]
  },
  {
   "cell_type": "code",
   "execution_count": 19,
   "metadata": {
    "colab": {
     "base_uri": "https://localhost:8080/"
    },
    "id": "bKU5jwK6HX6l",
    "outputId": "d1a2e768-14cc-4630-f201-0d4897b70e3a"
   },
   "outputs": [
    {
     "data": {
      "text/plain": [
       "0"
      ]
     },
     "execution_count": 19,
     "metadata": {},
     "output_type": "execute_result"
    }
   ],
   "source": [
    "estimate_label(4)"
   ]
  },
  {
   "cell_type": "code",
   "execution_count": 20,
   "metadata": {
    "id": "6eQgzlszHkLN"
   },
   "outputs": [],
   "source": [
    "# defining a function to print out the misclassified data\n",
    "def misclassify(testData):\n",
    "  j=0\n",
    "  misclassified_data= []\n",
    "  for i in testData:\n",
    "    #print(i)\n",
    "    predicted_label = estimate_label(j)\n",
    "    j=j+1\n",
    "    #print(predicted_label)\n",
    "    if(predicted_label != i):\n",
    "      misclassified_data.append(predicted_label)\n",
    "      #print(\"missclassification\")\n",
    "  print(misclassified_data)\n",
    "  return misclassified_data"
   ]
  },
  {
   "cell_type": "code",
   "execution_count": 21,
   "metadata": {
    "colab": {
     "base_uri": "https://localhost:8080/"
    },
    "id": "iHpYm6etHth1",
    "outputId": "ec02e029-0b24-402b-ee37-c5ca1a4483ae"
   },
   "outputs": [
    {
     "name": "stdout",
     "output_type": "stream",
     "text": [
      "[0, 0, 0, 0, 0, 0, 0, 0, 0]\n",
      "Accuracy: 0.9919282511210762\n",
      "Number of misclassified labels = 9 out of 1115\n"
     ]
    }
   ],
   "source": [
    "#printing out the misclassified data\n",
    "MISCLASSIFIED = misclassify(y_test)\n",
    "total = len(y_test)\n",
    "#print(MISCLASSIFIED)\n",
    "num_correct = total - len(MISCLASSIFIED)\n",
    "accuracy = num_correct/total\n",
    "\n",
    "print('Accuracy: ' + str(accuracy))\n",
    "print(\"Number of misclassified labels = \" + str(len(MISCLASSIFIED)) +' out of '+ str(total))"
   ]
  },
  {
   "cell_type": "code",
   "execution_count": 22,
   "metadata": {
    "colab": {
     "base_uri": "https://localhost:8080/",
     "height": 403
    },
    "id": "v4WPDlMiH0g0",
    "outputId": "d1c64eb2-96fe-425c-f69a-ed9a39b1881c"
   },
   "outputs": [
    {
     "name": "stdout",
     "output_type": "stream",
     "text": [
      "accuracy: 0.9919282511210762\n",
      "precision: 1.0\n",
      "recall: 0.9395973154362416\n"
     ]
    },
    {
     "name": "stderr",
     "output_type": "stream",
     "text": [
      "C:\\Users\\Bhhaanu\\anaconda3\\lib\\site-packages\\sklearn\\utils\\deprecation.py:87: FutureWarning: Function plot_confusion_matrix is deprecated; Function `plot_confusion_matrix` is deprecated in 1.0 and will be removed in 1.2. Use one of the class methods: ConfusionMatrixDisplay.from_predictions or ConfusionMatrixDisplay.from_estimator.\n",
      "  warnings.warn(msg, category=FutureWarning)\n"
     ]
    },
    {
     "data": {
      "text/plain": [
       "(966, 0, 9, 140)"
      ]
     },
     "execution_count": 22,
     "metadata": {},
     "output_type": "execute_result"
    },
    {
     "data": {
      "image/png": "[encoded data removed]",
      "text/plain": [
       "<Figure size 640x480 with 2 Axes>"
      ]
     },
     "metadata": {},
     "output_type": "display_data"
    }
   ],
   "source": [
    "#Print out the accuracy of a Naïve Bayes model in terms of true positive (TP), false positive (FP), true negative (TN), and false negative (FN).\n",
    "from sklearn.metrics import confusion_matrix\n",
    "from sklearn.metrics import plot_confusion_matrix\n",
    "tn, fp, fn, tp = confusion_matrix(y_test, y_pred).ravel()\n",
    "#Accuracy = (TP+TN)/(TP+FP+FN+TN)\n",
    "accuracy= (tp+tn)/(tp+tn+fp+fn)\n",
    "print(\"accuracy:\",accuracy)\n",
    "#Precision Score = TP / (FP + TP)\n",
    "precision=tp/(fp+tp)\n",
    "print(\"precision:\",precision)\n",
    "#Recall Score = TP / (FN + TP)\n",
    "recall=tp/(fn+tp)\n",
    "print(\"recall:\",recall)\n",
    "plot_confusion_matrix(NB_classifier, TestData_Freq, y_test)\n",
    "tn, fp, fn, tp"
   ]
  },
  {
   "cell_type": "markdown",
   "metadata": {
    "id": "_2Rw8800lq2_"
   },
   "source": [
    "**Performing basic text data cleaning on input data such as removing stop words and special characters or punctuations**"
   ]
  },
  {
   "cell_type": "code",
   "execution_count": 23,
   "metadata": {
    "colab": {
     "base_uri": "https://localhost:8080/"
    },
    "id": "4X_iKyskOY0U",
    "outputId": "cc8a3c8e-cb76-484b-9ad8-ba074bc76e64"
   },
   "outputs": [
    {
     "name": "stderr",
     "output_type": "stream",
     "text": [
      "[nltk_data] Downloading package stopwords to\n",
      "[nltk_data]     C:\\Users\\Bhhaanu\\AppData\\Roaming\\nltk_data...\n",
      "[nltk_data]   Package stopwords is already up-to-date!\n"
     ]
    },
    {
     "data": {
      "text/plain": [
       "True"
      ]
     },
     "execution_count": 23,
     "metadata": {},
     "output_type": "execute_result"
    }
   ],
   "source": [
    "# importing nltk library\n",
    "import nltk\n",
    "nltk.download('stopwords')"
   ]
  },
  {
   "cell_type": "code",
   "execution_count": 24,
   "metadata": {
    "colab": {
     "base_uri": "https://localhost:8080/"
    },
    "id": "iTzsUE1ANQ0E",
    "outputId": "dc4f21f3-1765-4b57-a59d-96d85a109cfb"
   },
   "outputs": [
    {
     "name": "stdout",
     "output_type": "stream",
     "text": [
      "['i', 'me', 'my', 'myself', 'we', 'our', 'ours', 'ourselves', 'you', \"you're\", \"you've\", \"you'll\", \"you'd\", 'your', 'yours', 'yourself', 'yourselves', 'he', 'him', 'his', 'himself', 'she', \"she's\", 'her', 'hers', 'herself', 'it', \"it's\", 'its', 'itself', 'they', 'them', 'their', 'theirs', 'themselves', 'what', 'which', 'who', 'whom', 'this', 'that', \"that'll\", 'these', 'those', 'am', 'is', 'are', 'was', 'were', 'be', 'been', 'being', 'have', 'has', 'had', 'having', 'do', 'does', 'did', 'doing', 'a', 'an', 'the', 'and', 'but', 'if', 'or', 'because', 'as', 'until', 'while', 'of', 'at', 'by', 'for', 'with', 'about', 'against', 'between', 'into', 'through', 'during', 'before', 'after', 'above', 'below', 'to', 'from', 'up', 'down', 'in', 'out', 'on', 'off', 'over', 'under', 'again', 'further', 'then', 'once', 'here', 'there', 'when', 'where', 'why', 'how', 'all', 'any', 'both', 'each', 'few', 'more', 'most', 'other', 'some', 'such', 'no', 'nor', 'not', 'only', 'own', 'same', 'so', 'than', 'too', 'very', 's', 't', 'can', 'will', 'just', 'don', \"don't\", 'should', \"should've\", 'now', 'd', 'll', 'm', 'o', 're', 've', 'y', 'ain', 'aren', \"aren't\", 'couldn', \"couldn't\", 'didn', \"didn't\", 'doesn', \"doesn't\", 'hadn', \"hadn't\", 'hasn', \"hasn't\", 'haven', \"haven't\", 'isn', \"isn't\", 'ma', 'mightn', \"mightn't\", 'mustn', \"mustn't\", 'needn', \"needn't\", 'shan', \"shan't\", 'shouldn', \"shouldn't\", 'wasn', \"wasn't\", 'weren', \"weren't\", 'won', \"won't\", 'wouldn', \"wouldn't\"]\n"
     ]
    }
   ],
   "source": [
    "#displaying stopwords in english\n",
    "from nltk.corpus import stopwords\n",
    "sw_nltk = stopwords.words('english')\n",
    "print(sw_nltk)"
   ]
  },
  {
   "cell_type": "code",
   "execution_count": 25,
   "metadata": {
    "id": "woobmj3RThXm"
   },
   "outputs": [],
   "source": [
    "#removing the stopwords from SMS_Text column in the dataset\n",
    "data_SMS['SMStext_without_stopwords'] = data_SMS['SMS_Text'].apply(lambda x: ' '.join([word for word in x.split() if word not in (sw_nltk)]))"
   ]
  },
  {
   "cell_type": "code",
   "execution_count": 26,
   "metadata": {
    "colab": {
     "base_uri": "https://localhost:8080/",
     "height": 206
    },
    "id": "k1kAfuCbJxPg",
    "outputId": "91831441-1442-4e90-b1e1-a7a2c3d4ccf5"
   },
   "outputs": [
    {
     "data": {
      "text/plain": [
       "0       Go jurong point, crazy.. Available bugis n gre...\n",
       "1                           Ok lar... Joking wif u oni...\n",
       "2       Free entry 2 wkly comp win FA Cup final tkts 2...\n",
       "3               U dun say early hor... U c already say...\n",
       "4               Nah I think goes usf, lives around though\n",
       "                              ...                        \n",
       "5567    This 2nd time tried 2 contact u. U £750 Pound ...\n",
       "5568                    Will ü b going esplanade fr home?\n",
       "5569             Pity, * mood that. So...any suggestions?\n",
       "5570    The guy bitching I acted like i'd interested b...\n",
       "5571                                  Rofl. Its true name\n",
       "Name: SMStext_without_stopwords, Length: 5572, dtype: object"
      ]
     },
     "execution_count": 26,
     "metadata": {},
     "output_type": "execute_result"
    }
   ],
   "source": [
    "data_SMS['SMStext_without_stopwords']"
   ]
  },
  {
   "cell_type": "code",
   "execution_count": 27,
   "metadata": {
    "colab": {
     "base_uri": "https://localhost:8080/"
    },
    "id": "kXjhppsJOEk7",
    "outputId": "683b9865-473c-41c6-e7b0-eaf9fb1c4af8"
   },
   "outputs": [
    {
     "name": "stderr",
     "output_type": "stream",
     "text": [
      "C:\\Users\\Bhhaanu\\AppData\\Local\\Temp\\ipykernel_5216\\4109790082.py:2: FutureWarning: The default value of regex will change from True to False in a future version.\n",
      "  data_SMS['SMStext_without_stopwords'] = data_SMS['SMStext_without_stopwords'].str.replace('[^\\w\\s]','')\n"
     ]
    }
   ],
   "source": [
    "#removing special characheters from SMS_Text_without_stopwords column\n",
    "data_SMS['SMStext_without_stopwords'] = data_SMS['SMStext_without_stopwords'].str.replace('[^\\w\\s]','')"
   ]
  },
  {
   "cell_type": "code",
   "execution_count": 28,
   "metadata": {
    "colab": {
     "base_uri": "https://localhost:8080/"
    },
    "id": "OjHWdh54mV4a",
    "outputId": "887ded95-a2d7-414b-f7a7-b3b6aa2acbc5"
   },
   "outputs": [
    {
     "data": {
      "text/plain": [
       "0       Go jurong point crazy Available bugis n great ...\n",
       "1                                 Ok lar Joking wif u oni\n",
       "2       Free entry 2 wkly comp win FA Cup final tkts 2...\n",
       "3                     U dun say early hor U c already say\n",
       "4                Nah I think goes usf lives around though\n",
       "                              ...                        \n",
       "5567    This 2nd time tried 2 contact u U 750 Pound pr...\n",
       "5568                     Will ü b going esplanade fr home\n",
       "5569                    Pity  mood that Soany suggestions\n",
       "5570    The guy bitching I acted like id interested bu...\n",
       "5571                                   Rofl Its true name\n",
       "Name: SMStext_without_stopwords, Length: 5572, dtype: object"
      ]
     },
     "execution_count": 28,
     "metadata": {},
     "output_type": "execute_result"
    }
   ],
   "source": [
    "data_SMS['SMStext_without_stopwords']"
   ]
  },
  {
   "cell_type": "code",
   "execution_count": 29,
   "metadata": {
    "id": "CuE_eeZEmXPR"
   },
   "outputs": [],
   "source": [
    "#Spliting the data into training and test sets. Use 80% for training and 20% for testing.\n",
    "from sklearn.model_selection import train_test_split\n",
    "X = data_SMS[\"SMStext_without_stopwords\"]\n",
    "y = data_SMS[\"Class\"]\n",
    "X_train, X_test, y_train, y_test = train_test_split(X, y, test_size=0.20, random_state=42)"
   ]
  },
  {
   "cell_type": "code",
   "execution_count": 30,
   "metadata": {
    "colab": {
     "base_uri": "https://localhost:8080/"
    },
    "id": "BJmotzkOmtmz",
    "outputId": "14978f88-8dae-4ba8-a450-9eb171abc764"
   },
   "outputs": [
    {
     "name": "stdout",
     "output_type": "stream",
     "text": [
      "1978    Reply win 100 weekly Where 2006 FIFA World Cup...\n",
      "3989    Hello Sort town already That  So dont rush hom...\n",
      "3935       How come guoyang go n tell her Then u told her\n",
      "4078    Hey sathya till dint meet even single time saw...\n",
      "4086    Orange brings ringtones time Chart Heroes free...\n",
      "                              ...                        \n",
      "3772    Hi wlcome back wonder got eaten lion something...\n",
      "5191                                 Sorry Ill call later\n",
      "5226                Prabhaim sorydarealyfrm heart im sory\n",
      "5390                             Nt joking seriously told\n",
      "860                          Did say somebody named tampa\n",
      "Name: SMStext_without_stopwords, Length: 4457, dtype: object 3245    Squeeeeeze This christmas hug If u lik frndshp...\n",
      "944     And also Ive sorta blown couple times recently...\n",
      "1044    Mmm thats better got roast me id b better drin...\n",
      "2484                  Mm kanji dont eat anything heavy ok\n",
      "812     So theres ring comes guys costumes Its gift fu...\n",
      "                              ...                        \n",
      "4264    Den weekdays got special price Haiz Cant eat l...\n",
      "2439                    I busy juz dun wan 2 go early Hee\n",
      "5556         Yes have So thats u texted Pshewmissing much\n",
      "4205              How enjoying semester Take care brother\n",
      "4293                                                  GWR\n",
      "Name: SMStext_without_stopwords, Length: 1115, dtype: object 1978    1\n",
      "3989    0\n",
      "3935    0\n",
      "4078    0\n",
      "4086    1\n",
      "       ..\n",
      "3772    0\n",
      "5191    0\n",
      "5226    0\n",
      "5390    0\n",
      "860     0\n",
      "Name: Class, Length: 4457, dtype: int32 3245    0\n",
      "944     0\n",
      "1044    0\n",
      "2484    0\n",
      "812     0\n",
      "       ..\n",
      "4264    0\n",
      "2439    0\n",
      "5556    0\n",
      "4205    0\n",
      "4293    0\n",
      "Name: Class, Length: 1115, dtype: int32\n"
     ]
    }
   ],
   "source": [
    "print(X_train,X_test,y_train,y_test)"
   ]
  },
  {
   "cell_type": "code",
   "execution_count": 31,
   "metadata": {
    "colab": {
     "base_uri": "https://localhost:8080/"
    },
    "id": "vGxKRA3km0Dv",
    "outputId": "d25a8794-d5a4-40e7-8535-bfde6360f728"
   },
   "outputs": [
    {
     "data": {
      "text/plain": [
       "array([[0, 0, 0, ..., 0, 0, 0],\n",
       "       [0, 0, 0, ..., 0, 0, 0],\n",
       "       [0, 0, 0, ..., 0, 0, 0],\n",
       "       ...,\n",
       "       [0, 0, 0, ..., 0, 0, 0],\n",
       "       [0, 0, 0, ..., 0, 0, 0],\n",
       "       [0, 0, 0, ..., 0, 0, 0]], dtype=int64)"
      ]
     },
     "execution_count": 31,
     "metadata": {},
     "output_type": "execute_result"
    }
   ],
   "source": [
    "#Extracting the features using word frequencies\n",
    "from sklearn.feature_extraction.text import CountVectorizer\n",
    "WordVectorizer=CountVectorizer()\n",
    "TrainData_Freq = WordVectorizer.fit_transform(X_train.values)\n",
    "WordVectorizer.vocabulary_\n",
    "TrainData_Freq.toarray()"
   ]
  },
  {
   "cell_type": "code",
   "execution_count": 32,
   "metadata": {
    "colab": {
     "base_uri": "https://localhost:8080/"
    },
    "id": "-2Ra7gdrnJX4",
    "outputId": "1606a3aa-dc34-4e8a-aab3-03be13a9754d"
   },
   "outputs": [
    {
     "data": {
      "text/plain": [
       "MultinomialNB()"
      ]
     },
     "execution_count": 32,
     "metadata": {},
     "output_type": "execute_result"
    }
   ],
   "source": [
    "#Creating the Multinomial Naïve Bayes classifier\n",
    "from sklearn.naive_bayes import MultinomialNB\n",
    "NB_classifier = MultinomialNB()\n",
    "NB_classifier.fit(TrainData_Freq, y_train)"
   ]
  },
  {
   "cell_type": "code",
   "execution_count": 33,
   "metadata": {
    "id": "LusNFsCbnlpf"
   },
   "outputs": [],
   "source": [
    "#Training the model\n",
    "TestData_Freq = WordVectorizer.transform(X_test)\n",
    "TestData_Freq=TestData_Freq.toarray()"
   ]
  },
  {
   "cell_type": "code",
   "execution_count": 34,
   "metadata": {
    "colab": {
     "base_uri": "https://localhost:8080/"
    },
    "id": "oIXtzAEgnmBM",
    "outputId": "e28ae80e-7b6a-44d1-8772-78e1f93ad281"
   },
   "outputs": [
    {
     "data": {
      "text/plain": [
       "array([[0, 0, 0, ..., 0, 0, 0],\n",
       "       [0, 0, 0, ..., 0, 0, 0],\n",
       "       [0, 0, 0, ..., 0, 0, 0],\n",
       "       ...,\n",
       "       [0, 0, 0, ..., 0, 0, 0],\n",
       "       [0, 0, 0, ..., 0, 0, 0],\n",
       "       [0, 0, 0, ..., 0, 0, 0]], dtype=int64)"
      ]
     },
     "execution_count": 34,
     "metadata": {},
     "output_type": "execute_result"
    }
   ],
   "source": [
    "TestData_Freq"
   ]
  },
  {
   "cell_type": "code",
   "execution_count": 35,
   "metadata": {
    "colab": {
     "base_uri": "https://localhost:8080/"
    },
    "id": "yz5FZQXPnu76",
    "outputId": "2b3e5c65-997c-417e-9f28-a5869f5ae456"
   },
   "outputs": [
    {
     "data": {
      "text/plain": [
       "0.9838565022421525"
      ]
     },
     "execution_count": 35,
     "metadata": {},
     "output_type": "execute_result"
    }
   ],
   "source": [
    "NB_classifier.score(TestData_Freq, y_test)"
   ]
  },
  {
   "cell_type": "code",
   "execution_count": 36,
   "metadata": {
    "id": "C9LZmRYrq1LL"
   },
   "outputs": [],
   "source": [
    "y_pred = NB_classifier.predict(TestData_Freq)"
   ]
  },
  {
   "cell_type": "code",
   "execution_count": 37,
   "metadata": {
    "id": "9drErBGgoR6u"
   },
   "outputs": [],
   "source": [
    "def estimate_label(data):\n",
    "  return y_pred[data]"
   ]
  },
  {
   "cell_type": "code",
   "execution_count": 38,
   "metadata": {
    "colab": {
     "base_uri": "https://localhost:8080/"
    },
    "id": "KGS_4yNtqbJW",
    "outputId": "6712a410-7886-441f-812f-9fa70e292ce3"
   },
   "outputs": [
    {
     "data": {
      "text/plain": [
       "0"
      ]
     },
     "execution_count": 38,
     "metadata": {},
     "output_type": "execute_result"
    }
   ],
   "source": [
    "estimate_label(3)"
   ]
  },
  {
   "cell_type": "code",
   "execution_count": 39,
   "metadata": {
    "id": "ClgSqmBFqc9q"
   },
   "outputs": [],
   "source": [
    "# defining a function to print out the misclassified data\n",
    "def misclassify(testData):\n",
    "  j=0\n",
    "  misclassified_data= []\n",
    "  for i in testData:\n",
    "    #print(i)\n",
    "    predicted_label = estimate_label(j)\n",
    "    j=j+1\n",
    "    #print(predicted_label)\n",
    "    if(predicted_label != i):\n",
    "      misclassified_data.append(predicted_label)\n",
    "      #print(\"missclassification\")\n",
    "  print(misclassified_data)\n",
    "  return misclassified_data"
   ]
  },
  {
   "cell_type": "code",
   "execution_count": 40,
   "metadata": {
    "colab": {
     "base_uri": "https://localhost:8080/"
    },
    "id": "vKW-BWZFqgjG",
    "outputId": "5ebf261a-6b38-4404-f1e2-7c80efb9b209"
   },
   "outputs": [
    {
     "name": "stdout",
     "output_type": "stream",
     "text": [
      "[1, 0, 0, 0, 0, 0, 0, 0, 0, 1, 0, 0, 0, 0, 1, 0, 1, 0]\n",
      "Accuracy: 0.9838565022421525\n",
      "Number of misclassified labels = 18 out of 1115\n"
     ]
    }
   ],
   "source": [
    "#printing out the misclassified data\n",
    "MISCLASSIFIED = misclassify(y_test)\n",
    "total = len(y_test)\n",
    "#print(MISCLASSIFIED)\n",
    "num_correct = total - len(MISCLASSIFIED)\n",
    "accuracy = num_correct/total\n",
    "\n",
    "print('Accuracy: ' + str(accuracy))\n",
    "print(\"Number of misclassified labels = \" + str(len(MISCLASSIFIED)) +' out of '+ str(total))"
   ]
  },
  {
   "cell_type": "code",
   "execution_count": 41,
   "metadata": {
    "colab": {
     "base_uri": "https://localhost:8080/",
     "height": 403
    },
    "id": "ut5v6LWTqnqe",
    "outputId": "669e2e90-56ea-4cce-9ea4-7da42e91df05"
   },
   "outputs": [
    {
     "name": "stdout",
     "output_type": "stream",
     "text": [
      "accuracy: 0.9838565022421525\n",
      "precision: 0.9712230215827338\n",
      "recall: 0.9060402684563759\n"
     ]
    },
    {
     "name": "stderr",
     "output_type": "stream",
     "text": [
      "C:\\Users\\Bhhaanu\\anaconda3\\lib\\site-packages\\sklearn\\utils\\deprecation.py:87: FutureWarning: Function plot_confusion_matrix is deprecated; Function `plot_confusion_matrix` is deprecated in 1.0 and will be removed in 1.2. Use one of the class methods: ConfusionMatrixDisplay.from_predictions or ConfusionMatrixDisplay.from_estimator.\n",
      "  warnings.warn(msg, category=FutureWarning)\n"
     ]
    },
    {
     "data": {
      "text/plain": [
       "(962, 4, 14, 135)"
      ]
     },
     "execution_count": 41,
     "metadata": {},
     "output_type": "execute_result"
    },
    {
     "data": {
      "image/png": "[encoded data removed]",
      "text/plain": [
       "<Figure size 640x480 with 2 Axes>"
      ]
     },
     "metadata": {},
     "output_type": "display_data"
    }
   ],
   "source": [
    "#Print out the accuracy of a Naïve Bayes model in terms of true positive (TP), false positive (FP), true negative (TN), and false negative (FN).\n",
    "from sklearn.metrics import confusion_matrix\n",
    "from sklearn.metrics import plot_confusion_matrix\n",
    "tn, fp, fn, tp = confusion_matrix(y_test, y_pred).ravel()\n",
    "#Accuracy = (TP+TN)/(TP+FP+FN+TN)\n",
    "accuracy= (tp+tn)/(tp+tn+fp+fn)\n",
    "print(\"accuracy:\",accuracy)\n",
    "#Precision Score = TP / (FP + TP)\n",
    "precision=tp/(fp+tp)\n",
    "print(\"precision:\",precision)\n",
    "#Recall Score = TP / (FN + TP)\n",
    "recall=tp/(fn+tp)\n",
    "print(\"recall:\",recall)\n",
    "plot_confusion_matrix(NB_classifier, TestData_Freq, y_test)\n",
    "tn, fp, fn, tp"
   ]
  },
  {
   "cell_type": "markdown",
   "metadata": {
    "id": "kv95u93GnPkC"
   },
   "source": [
    "**Analysis of the Naïve Bayes model performance comparing with and without text data cleaning:** \n",
    "\n",
    "My model gives an accuracy of 99% with out cleaning the text data however after performing data cleaning steps like removing stopwords, punctuations and special characters from the dataset it reduced to 98%. Performing tasks like cleaning the textdata without stopwords and punctuations should be an advantage, as it removes useless data and reduces computation time. However the case here is different as the accuracy is decreased but the model is more reliable with text data cleaning."
   ]
  }
 ],
 "metadata": {
  "colab": {
   "provenance": []
  },
  "kernelspec": {
   "display_name": "Python 3 (ipykernel)",
   "language": "python",
   "name": "python3"
  },
  "language_info": {
   "codemirror_mode": {
    "name": "ipython",
    "version": 3
   },
   "file_extension": ".py",
   "mimetype": "text/x-python",
   "name": "python",
   "nbconvert_exporter": "python",
   "pygments_lexer": "ipython3",
   "version": "3.9.13"
  }
 },
 "nbformat": 4,
 "nbformat_minor": 1
}
